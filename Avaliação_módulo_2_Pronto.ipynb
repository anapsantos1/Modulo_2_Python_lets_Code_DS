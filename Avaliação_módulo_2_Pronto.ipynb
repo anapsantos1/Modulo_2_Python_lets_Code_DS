{
  "nbformat": 4,
  "nbformat_minor": 0,
  "metadata": {
    "kernelspec": {
      "display_name": "Python 3",
      "language": "python",
      "name": "python3"
    },
    "language_info": {
      "codemirror_mode": {
        "name": "ipython",
        "version": 3
      },
      "file_extension": ".py",
      "mimetype": "text/x-python",
      "name": "python",
      "nbconvert_exporter": "python",
      "pygments_lexer": "ipython3",
      "version": "3.8.3"
    },
    "colab": {
      "name": "Avaliação_módulo_2_Pronto.ipynb",
      "provenance": [],
      "collapsed_sections": []
    }
  },
  "cells": [
    {
      "cell_type": "markdown",
      "metadata": {
        "id": "XzTbsWMiYn_N"
      },
      "source": [
        "# Avaliação módulo 2 - Degree Data Science\n",
        "\n",
        "## Data de entrega: idealmente\n",
        "\n",
        "_________\n",
        "\n",
        "Você deve construir o sistema de marcação de ponto de sua empresa. O sistema deve conter uma interface de navegação, onde o funcionário pode marcar o horário em que entrou no trabalho (digitando a hora, minuto e segundo); o horário em que bateu o ponto pra entrar no almoço; quando bateu o ponto pra voltar do almoço; e quando bateu o ponto da saída.\n",
        "\n",
        "Mas, reforçando: são 4 batidas de ponto:\n",
        "\n",
        "- entrada (começo do dia);\n",
        "- saída (sai pro almoço);\n",
        "- entrada (volta do almoço);\n",
        "- saída (fim do dia).\n",
        "\n",
        "Requisitos:\n",
        "\n",
        "- Requisito #1 - O intervalo mínimo é de 1h. Se o funcionário tentar bater o ponto da volta do almoço com menos de 1h, avise-o disso, e impeça a marcação!\n",
        "- Requisito #2 - Ao fim da jornada de trabalho, você deve avisar para o usuário exatamente qual foi sua jornada de trabalho (não inclui o intervalo!).\n",
        "- Requisito #3 - Se trabalhar mais que 10h, dê um esporro.\n",
        "- Requisito #4 - Você deve, necessariamente, criar uma classe para o projeto. A forma como você irá modelar os atributos, métodos, etc., é inteiramente livre. Mas sugiro que você se inspire nos exercícios que fizemos (ex. 4, projeto do módulo 1, classe `Horario`, etc.)\n",
        "\n",
        "\n",
        "Tópicos avaliados:\n",
        "\n",
        "- Modelagem orienta a objetos;\n",
        "- Classes;\n",
        "- Atributos;\n",
        "- Métodos;\n",
        "- Construtor;\n",
        "- Métodos mágicos;\n",
        "\n",
        "Opcionais:\n",
        "- Herança;\n",
        "- Polimorfismo;\n",
        "- Bibliotecas."
      ]
    },
    {
      "cell_type": "code",
      "metadata": {
        "id": "1TpJWCWTYn_P"
      },
      "source": [
        "from datetime import date, time, datetime, timedelta\n",
        "\n",
        "class Horario:\n",
        "    '''\n",
        "    classe pra representar um horario com hora, minuto e segundo\n",
        "    '''\n",
        "    \n",
        "    def __init__(self, hour, minute, sec):\n",
        "        \n",
        "        self.h = hour\n",
        "        self.m = minute\n",
        "        self.s = sec\n",
        "        \n",
        "        \n",
        "    def __repr__(self):\n",
        "        \n",
        "        return f\"{self.h:02d}:{self.m:02d}:{self.s:02d}\"\n",
        "    \n",
        "    \n",
        "    def __str__(self):\n",
        "        \n",
        "        return f\"{self.h:02d}:{self.m:02d}:{self.s:02d}\"\n",
        "            \n",
        "    \n",
        "    def __add__(self, other):\n",
        "        \n",
        "        ho = self.h - other.h\n",
        "        mi = self.m - other.m\n",
        "        se = self.s - other.s\n",
        "\n",
        "        while se >= 60:\n",
        "            mi = mi + 1\n",
        "            se = se - 60\n",
        "\n",
        "        while mi >= 60:\n",
        "            ho = ho + 1\n",
        "            mi = mi - 60\n",
        "\n",
        "        while ho >= 24:\n",
        "            ho = ho - 24\n",
        "\n",
        "        return Horario(ho, mi, se)\n",
        "\n",
        "class Ponto_funcionario:\n",
        "    \n",
        "    def __init__(self, nome, sobrenome, ponto):\n",
        "        '''\n",
        "        Propriedade da classe Ponto_funcionario\n",
        "\n",
        "        '''\n",
        "        self.nome = nome\n",
        "        self.sobrenome = sobrenome\n",
        "        self.ponto = str(ponto)\n",
        "        self.entrada = None\n",
        "        self.saida = None\n",
        "        self.inicio_almoco = None\n",
        "        self.final_almoco = None\n",
        "        self.pausa = True\n",
        "\n",
        "    def __repr__(self):\n",
        "        '''\n",
        "        Método de representação da classe Ponto_funcionario\n",
        "        '''\n",
        "        return \"Empregado:\\nNome:'{}', Sobrenome: '{}', N° de Registro:'{}'\".format(self.nome, self.sobrenome, self.ponto)\n",
        "    def __str__(self):\n",
        "        '''\n",
        "        Método para a representação por strings da classe Ponto_funcionario\n",
        "        '''\n",
        "        return (\"{} - {} - {}\".format(self.nome, self.sobrenome, self.ponto))\n",
        "        \n",
        "    def registro_de_ponto(self):\n",
        "      ponto = int(input(\"Tipo de registro: \\n(1) Entrada\\n(2) Inicio do Almoço\\n(3) Fim do almoço\\n(4) Fim expediente  \"))\n",
        "\n",
        "      if ponto == 1:\n",
        "        self.pausa = False\n",
        "        entrada = input(\"Qual horario de entrada:ex.08:00:00 \")\n",
        "        hora = int(entrada.split(':')[0])\n",
        "        minuto = int(entrada.split(':')[1])\n",
        "        sec = int(entrada.split(':')[2])\n",
        "        self.horario_entrada = Horario(hora, minuto, sec)\n",
        "\n",
        "      elif ponto == 2:\n",
        "        self.pausa = True\n",
        "        almoco = input(\"Qual horario de Almoço:ex.12:00:00 \")\n",
        "        hora = int(almoco.split(':')[0])\n",
        "        minuto = int(almoco.split(':')[1])\n",
        "        sec = int(almoco.split(':')[2])\n",
        "        self.inicio_almoco = str(Horario(hora, minuto, sec))\n",
        "      \n",
        "      elif ponto == 3:\n",
        "        self.pausa = False\n",
        "        almoco = input(\"Qual horario de volta do almoço:ex.13:00:00 \")\n",
        "        hora = int(almoco.split(':')[0])\n",
        "        minuto = int(almoco.split(':')[1])\n",
        "        sec = int(almoco.split(':')[2])\n",
        "        self.final_almoco = str(Horario(hora, minuto, sec))\n",
        "        format = '%H:%M:%S'\n",
        "        duracao = datetime.strptime(self.final_almoco, format) - datetime.strptime(self.inicio_almoco, format)\n",
        "        \n",
        "        \n",
        "        if (duracao == timedelta(hours=1)):\n",
        "          print(\"De volta ao trabalho.\")\n",
        "        elif(duracao < timedelta(hours=1)):\n",
        "          print(\"Tempo de pausa inferior, É preciso fazer 1h de pausa\")\n",
        "        else:\n",
        "          print(\"Você ultrapassou o tempo da pausa.\\nO Rh será comunicado \")\n",
        "      elif ponto == 4:\n",
        "        self.pausa = True\n",
        "        saida = input(\"Qual horario de Saida:ex.18:00:00 \")\n",
        "        hora = int(saida.split(':')[0])\n",
        "        minuto = int(saida.split(':')[1])\n",
        "        sec = int(saida.split(':')[2])\n",
        "        self.saida = Horario(hora, minuto, sec)\n",
        "        print(f\"Até Logo, {self.nome}\")\n",
        "      else:\n",
        "        print(\"Entrada inválida. tente novamente: \")\n",
        "\n",
        "\n"
      ],
      "execution_count": 49,
      "outputs": []
    },
    {
      "cell_type": "code",
      "metadata": {
        "id": "nYdRgXpq4Lcf"
      },
      "source": [
        "Ana = Ponto_funcionario('Ana Paula','Araujo', 123456)\n",
        "    "
      ],
      "execution_count": 50,
      "outputs": []
    },
    {
      "cell_type": "code",
      "metadata": {
        "colab": {
          "base_uri": "https://localhost:8080/"
        },
        "id": "OnonhypmBaLL",
        "outputId": "82060920-5159-4d62-bc18-398faa44860d"
      },
      "source": [
        "print(Ana)"
      ],
      "execution_count": 51,
      "outputs": [
        {
          "output_type": "stream",
          "name": "stdout",
          "text": [
            "Ana Paula - Araujo - 123456\n"
          ]
        }
      ]
    },
    {
      "cell_type": "code",
      "metadata": {
        "colab": {
          "base_uri": "https://localhost:8080/"
        },
        "id": "dXpopfAiB-wr",
        "outputId": "572b55ef-06ac-423f-f425-f249916849b6"
      },
      "source": [
        "Ana"
      ],
      "execution_count": 52,
      "outputs": [
        {
          "output_type": "execute_result",
          "data": {
            "text/plain": [
              "Empregado:\n",
              "Nome:'Ana Paula', Sobrenome: 'Araujo', N° de Registro:'123456'"
            ]
          },
          "metadata": {},
          "execution_count": 52
        }
      ]
    },
    {
      "cell_type": "code",
      "metadata": {
        "colab": {
          "base_uri": "https://localhost:8080/"
        },
        "id": "QtVfJUgGCFrF",
        "outputId": "1beeb452-6bbf-4643-ee63-85694a775703"
      },
      "source": [
        "Ana.registro_de_ponto()"
      ],
      "execution_count": 53,
      "outputs": [
        {
          "name": "stdout",
          "output_type": "stream",
          "text": [
            "Tipo de registro: \n",
            "(1) Entrada\n",
            "(2) Inicio do Almoço\n",
            "(3) Fim do almoço\n",
            "(4) Fim expediente  1\n",
            "Qual horario de entrada:ex.08:00:00 08:00:00\n"
          ]
        }
      ]
    },
    {
      "cell_type": "code",
      "metadata": {
        "colab": {
          "base_uri": "https://localhost:8080/"
        },
        "id": "B2MVTebbCeEZ",
        "outputId": "a901705c-7fe4-45b2-d9ff-2b9ebaaa9ff6"
      },
      "source": [
        "print(Ana.entrada)"
      ],
      "execution_count": 54,
      "outputs": [
        {
          "output_type": "stream",
          "name": "stdout",
          "text": [
            "None\n"
          ]
        }
      ]
    },
    {
      "cell_type": "code",
      "metadata": {
        "colab": {
          "base_uri": "https://localhost:8080/"
        },
        "id": "MX-zz-y5CuQO",
        "outputId": "f4e8f362-df6f-43f1-ec15-0d4088dee0d3"
      },
      "source": [
        "Ana.registro_de_ponto()"
      ],
      "execution_count": 55,
      "outputs": [
        {
          "name": "stdout",
          "output_type": "stream",
          "text": [
            "Tipo de registro: \n",
            "(1) Entrada\n",
            "(2) Inicio do Almoço\n",
            "(3) Fim do almoço\n",
            "(4) Fim expediente  2\n",
            "Qual horario de Almoço:ex.12:00:00 12:00:00\n"
          ]
        }
      ]
    },
    {
      "cell_type": "code",
      "metadata": {
        "colab": {
          "base_uri": "https://localhost:8080/"
        },
        "id": "Hb1gS8hrC8zy",
        "outputId": "e0b74868-89ac-4c23-c669-c53519429137"
      },
      "source": [
        "Ana.registro_de_ponto()"
      ],
      "execution_count": 56,
      "outputs": [
        {
          "output_type": "stream",
          "name": "stdout",
          "text": [
            "Tipo de registro: \n",
            "(1) Entrada\n",
            "(2) Inicio do Almoço\n",
            "(3) Fim do almoço\n",
            "(4) Fim expediente  3\n",
            "Qual horario de volta do almoço:ex.13:00:00 13:13:00\n",
            "Você ultrapassou o tempo da pausa.\n",
            "O Rh será comunicado \n"
          ]
        }
      ]
    },
    {
      "cell_type": "code",
      "metadata": {
        "colab": {
          "base_uri": "https://localhost:8080/"
        },
        "id": "jqeyLhyBEzzc",
        "outputId": "5670081f-cabb-443b-98b1-aadd8dec038c"
      },
      "source": [
        "Ana.registro_de_ponto()\n",
        "print(Ana.saida)\n",
        "print(Ana.pausa)"
      ],
      "execution_count": 57,
      "outputs": [
        {
          "output_type": "stream",
          "name": "stdout",
          "text": [
            "Tipo de registro: \n",
            "(1) Entrada\n",
            "(2) Inicio do Almoço\n",
            "(3) Fim do almoço\n",
            "(4) Fim expediente  4\n",
            "Qual horario de Saida:ex.18:00:00 18:00:00\n",
            "Até Logo, Ana Paula\n",
            "18:00:00\n",
            "True\n"
          ]
        }
      ]
    }
  ]
}